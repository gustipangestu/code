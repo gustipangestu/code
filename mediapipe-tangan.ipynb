{
 "cells": [
  {
   "cell_type": "code",
   "execution_count": 1,
   "metadata": {},
   "outputs": [
    {
     "name": "stderr",
     "output_type": "stream",
     "text": [
      "'wget' is not recognized as an internal or external command,\n",
      "operable program or batch file.\n"
     ]
    }
   ],
   "source": [
    "# !wget -q https://storage.googleapis.com/mediapipe-models/gesture_recognizer/gesture_recognizer/float16/1/gesture_recognizer.task"
   ]
  },
  {
   "cell_type": "code",
   "execution_count": 2,
   "metadata": {},
   "outputs": [],
   "source": [
    "import cv2\n",
    "import math\n",
    "import mediapipe as mp\n",
    "from mediapipe.tasks import python\n",
    "from mediapipe.tasks.python import vision"
   ]
  },
  {
   "cell_type": "code",
   "execution_count": 30,
   "metadata": {},
   "outputs": [
    {
     "name": "stdout",
     "output_type": "stream",
     "text": [
      "<class 'mediapipe.python._framework_bindings.image.Image'>\n",
      "[[NormalizedLandmark(x=0.4208678603172302, y=0.9198017120361328, z=1.2221718179716845e-06, visibility=0.0, presence=0.0), NormalizedLandmark(x=0.5575882196426392, y=0.78730309009552, z=-0.07819470018148422, visibility=0.0, presence=0.0), NormalizedLandmark(x=0.653749942779541, y=0.6034864187240601, z=-0.0990726500749588, visibility=0.0, presence=0.0), NormalizedLandmark(x=0.7361618280410767, y=0.47054439783096313, z=-0.11849737912416458, visibility=0.0, presence=0.0), NormalizedLandmark(x=0.8069638609886169, y=0.3531021177768707, z=-0.1353205442428589, visibility=0.0, presence=0.0), NormalizedLandmark(x=0.4649495482444763, y=0.4510587155818939, z=-0.03521949425339699, visibility=0.0, presence=0.0), NormalizedLandmark(x=0.4743909239768982, y=0.26603150367736816, z=-0.06854413449764252, visibility=0.0, presence=0.0), NormalizedLandmark(x=0.47687867283821106, y=0.15118762850761414, z=-0.08950750529766083, visibility=0.0, presence=0.0), NormalizedLandmark(x=0.4697113037109375, y=0.04768717288970947, z=-0.10813262313604355, visibility=0.0, presence=0.0), NormalizedLandmark(x=0.3614027500152588, y=0.48289722204208374, z=-0.04215202480554581, visibility=0.0, presence=0.0), NormalizedLandmark(x=0.2706820070743561, y=0.2883087396621704, z=-0.10373308509588242, visibility=0.0, presence=0.0), NormalizedLandmark(x=0.22754040360450745, y=0.16438093781471252, z=-0.14767764508724213, visibility=0.0, presence=0.0), NormalizedLandmark(x=0.17675349116325378, y=0.05576106905937195, z=-0.17096947133541107, visibility=0.0, presence=0.0), NormalizedLandmark(x=0.2796858549118042, y=0.5619819760322571, z=-0.05929547920823097, visibility=0.0, presence=0.0), NormalizedLandmark(x=0.23236161470413208, y=0.4866597652435303, z=-0.1698167473077774, visibility=0.0, presence=0.0), NormalizedLandmark(x=0.3137476444244385, y=0.6055947542190552, z=-0.19937516748905182, visibility=0.0, presence=0.0), NormalizedLandmark(x=0.3751293420791626, y=0.6785273551940918, z=-0.1890130192041397, visibility=0.0, presence=0.0), NormalizedLandmark(x=0.2241380512714386, y=0.6591719388961792, z=-0.08073249459266663, visibility=0.0, presence=0.0), NormalizedLandmark(x=0.19587883353233337, y=0.6105560064315796, z=-0.1805563122034073, visibility=0.0, presence=0.0), NormalizedLandmark(x=0.27357786893844604, y=0.6962484121322632, z=-0.19810722768306732, visibility=0.0, presence=0.0), NormalizedLandmark(x=0.3422108292579651, y=0.7492014169692993, z=-0.19007064402103424, visibility=0.0, presence=0.0)]]\n",
      "<class 'mediapipe.python._framework_bindings.image.Image'>\n",
      "[[NormalizedLandmark(x=0.6290569305419922, y=0.9427089691162109, z=3.6015228488395223e-07, visibility=0.0, presence=0.0), NormalizedLandmark(x=0.7447963953018188, y=0.8859789371490479, z=-0.10801400989294052, visibility=0.0, presence=0.0), NormalizedLandmark(x=0.7757977247238159, y=0.7062448263168335, z=-0.16640706360340118, visibility=0.0, presence=0.0), NormalizedLandmark(x=0.7102339863777161, y=0.5509878396987915, z=-0.20824123919010162, visibility=0.0, presence=0.0), NormalizedLandmark(x=0.5870215892791748, y=0.47139501571655273, z=-0.24471010267734528, visibility=0.0, presence=0.0), NormalizedLandmark(x=0.6870983242988586, y=0.47064390778541565, z=-0.09734604507684708, visibility=0.0, presence=0.0), NormalizedLandmark(x=0.7186716794967651, y=0.2722310423851013, z=-0.15718168020248413, visibility=0.0, presence=0.0), NormalizedLandmark(x=0.7279343605041504, y=0.15343743562698364, z=-0.20439265668392181, visibility=0.0, presence=0.0), NormalizedLandmark(x=0.7131531238555908, y=0.04450637102127075, z=-0.24280662834644318, visibility=0.0, presence=0.0), NormalizedLandmark(x=0.5720584392547607, y=0.4795103371143341, z=-0.0901300385594368, visibility=0.0, presence=0.0), NormalizedLandmark(x=0.5571527481079102, y=0.286790668964386, z=-0.20775695145130157, visibility=0.0, presence=0.0), NormalizedLandmark(x=0.5869837403297424, y=0.33113133907318115, z=-0.2670203745365143, visibility=0.0, presence=0.0), NormalizedLandmark(x=0.6126964092254639, y=0.3851768374443054, z=-0.28075915575027466, visibility=0.0, presence=0.0), NormalizedLandmark(x=0.4704996347427368, y=0.5275734663009644, z=-0.0919322818517685, visibility=0.0, presence=0.0), NormalizedLandmark(x=0.41030818223953247, y=0.33145007491111755, z=-0.17700359225273132, visibility=0.0, presence=0.0), NormalizedLandmark(x=0.37654730677604675, y=0.2117677628993988, z=-0.20683331787586212, visibility=0.0, presence=0.0), NormalizedLandmark(x=0.3388403356075287, y=0.11347565054893494, z=-0.2137453705072403, visibility=0.0, presence=0.0), NormalizedLandmark(x=0.3719129264354706, y=0.6104772090911865, z=-0.10094012320041656, visibility=0.0, presence=0.0), NormalizedLandmark(x=0.2856624126434326, y=0.47417590022087097, z=-0.14842654764652252, visibility=0.0, presence=0.0), NormalizedLandmark(x=0.22555463016033173, y=0.39577195048332214, z=-0.15475034713745117, visibility=0.0, presence=0.0), NormalizedLandmark(x=0.162704199552536, y=0.3183434307575226, z=-0.15566152334213257, visibility=0.0, presence=0.0)]]\n",
      "[0.4208678603172302, 0.9198017120361328, 1.2221718179716845e-06, 0.5575882196426392, 0.78730309009552, -0.07819470018148422, 0.653749942779541, 0.6034864187240601, -0.0990726500749588, 0.7361618280410767, 0.47054439783096313, -0.11849737912416458, 0.8069638609886169, 0.3531021177768707, -0.1353205442428589, 0.4649495482444763, 0.4510587155818939, -0.03521949425339699, 0.4743909239768982, 0.26603150367736816, -0.06854413449764252, 0.47687867283821106, 0.15118762850761414, -0.08950750529766083, 0.4697113037109375, 0.04768717288970947, -0.10813262313604355, 0.3614027500152588, 0.48289722204208374, -0.04215202480554581, 0.2706820070743561, 0.2883087396621704, -0.10373308509588242, 0.22754040360450745, 0.16438093781471252, -0.14767764508724213, 0.17675349116325378, 0.05576106905937195, -0.17096947133541107, 0.2796858549118042, 0.5619819760322571, -0.05929547920823097, 0.23236161470413208, 0.4866597652435303, -0.1698167473077774, 0.3137476444244385, 0.6055947542190552, -0.19937516748905182, 0.3751293420791626, 0.6785273551940918, -0.1890130192041397, 0.2241380512714386, 0.6591719388961792, -0.08073249459266663, 0.19587883353233337, 0.6105560064315796, -0.1805563122034073, 0.27357786893844604, 0.6962484121322632, -0.19810722768306732, 0.3422108292579651, 0.7492014169692993, -0.19007064402103424]\n",
      "[0.6290569305419922, 0.9427089691162109, 3.6015228488395223e-07, 0.7447963953018188, 0.8859789371490479, -0.10801400989294052, 0.7757977247238159, 0.7062448263168335, -0.16640706360340118, 0.7102339863777161, 0.5509878396987915, -0.20824123919010162, 0.5870215892791748, 0.47139501571655273, -0.24471010267734528, 0.6870983242988586, 0.47064390778541565, -0.09734604507684708, 0.7186716794967651, 0.2722310423851013, -0.15718168020248413, 0.7279343605041504, 0.15343743562698364, -0.20439265668392181, 0.7131531238555908, 0.04450637102127075, -0.24280662834644318, 0.5720584392547607, 0.4795103371143341, -0.0901300385594368, 0.5571527481079102, 0.286790668964386, -0.20775695145130157, 0.5869837403297424, 0.33113133907318115, -0.2670203745365143, 0.6126964092254639, 0.3851768374443054, -0.28075915575027466, 0.4704996347427368, 0.5275734663009644, -0.0919322818517685, 0.41030818223953247, 0.33145007491111755, -0.17700359225273132, 0.37654730677604675, 0.2117677628993988, -0.20683331787586212, 0.3388403356075287, 0.11347565054893494, -0.2137453705072403, 0.3719129264354706, 0.6104772090911865, -0.10094012320041656, 0.2856624126434326, 0.47417590022087097, -0.14842654764652252, 0.22555463016033173, 0.39577195048332214, -0.15475034713745117, 0.162704199552536, 0.3183434307575226, -0.15566152334213257]\n"
     ]
    },
    {
     "ename": "",
     "evalue": "",
     "output_type": "error",
     "traceback": [
      "\u001b[1;31mThe Kernel crashed while executing code in the current cell or a previous cell. \n",
      "\u001b[1;31mPlease review the code in the cell(s) to identify a possible cause of the failure. \n",
      "\u001b[1;31mClick <a href='https://aka.ms/vscodeJupyterKernelCrash'>here</a> for more info. \n",
      "\u001b[1;31mView Jupyter <a href='command:jupyter.viewOutput'>log</a> for further details."
     ]
    }
   ],
   "source": [
    "base_options = python.BaseOptions(model_asset_path='gesture_recognizer.task')\n",
    "options = vision.GestureRecognizerOptions(base_options=base_options)\n",
    "recognizer = vision.GestureRecognizer.create_from_options(options)\n",
    "\n",
    "\n",
    "\n",
    "def handGesture(img):\n",
    "    landmarks = []\n",
    "    image = mp.Image.create_from_file(img)\n",
    "    print(type(image))\n",
    "    recognition_result = recognizer.recognize(image)\n",
    "    top_gesture = recognition_result.gestures[0][0]\n",
    "    hand_landmarks = recognition_result.hand_landmarks\n",
    "    print(hand_landmarks)\n",
    "    for a in range(0,len(hand_landmarks[0])):\n",
    "        x = hand_landmarks[0][a].x\n",
    "        y = hand_landmarks[0][a].y\n",
    "        z = hand_landmarks[0][a].z\n",
    "        landmarks.append(x)\n",
    "        landmarks.append(y)\n",
    "        landmarks.append(z)\n",
    "    return landmarks\n",
    "\n",
    "imgUri = \"asl_dataset/3/hand1_3_bot_seg_5_cropped.jpeg\"\n",
    "imgUri2 = \"asl_dataset/8/hand1_8_bot_seg_1_cropped.jpeg\"\n",
    "landmarks1 = handGesture(img=imgUri)\n",
    "landmarks2 = handGesture(img=imgUri2)\n",
    "print(landmarks1)\n",
    "print(landmarks2)\n"
   ]
  },
  {
   "cell_type": "code",
   "execution_count": null,
   "metadata": {},
   "outputs": [],
   "source": []
  }
 ],
 "metadata": {
  "kernelspec": {
   "display_name": "Python 3",
   "language": "python",
   "name": "python3"
  },
  "language_info": {
   "codemirror_mode": {
    "name": "ipython",
    "version": 3
   },
   "file_extension": ".py",
   "mimetype": "text/x-python",
   "name": "python",
   "nbconvert_exporter": "python",
   "pygments_lexer": "ipython3",
   "version": "3.10.4"
  }
 },
 "nbformat": 4,
 "nbformat_minor": 2
}
