{
 "cells": [
  {
   "cell_type": "code",
   "execution_count": 5,
   "metadata": {},
   "outputs": [],
   "source": [
    "import pandas as pd\n",
    "import torch\n",
    "import numpy as np\n",
    "from torch.nn.utils.rnn import pad_sequence, pack_padded_sequence"
   ]
  },
  {
   "cell_type": "code",
   "execution_count": 21,
   "metadata": {},
   "outputs": [
    {
     "name": "stdout",
     "output_type": "stream",
     "text": [
      "PackedSequence(data=tensor([[1., 2., 3.],\n",
      "        [1., 2., 3.],\n",
      "        [1., 2., 3.],\n",
      "        [1., 2., 3.],\n",
      "        [1., 2., 3.],\n",
      "        [1., 2., 3.],\n",
      "        [1., 2., 3.],\n",
      "        [1., 2., 3.],\n",
      "        [1., 2., 3.],\n",
      "        [1., 2., 3.],\n",
      "        [1., 2., 3.],\n",
      "        [1., 2., 3.],\n",
      "        [1., 2., 3.],\n",
      "        [1., 2., 3.]]), batch_sizes=tensor([3, 3, 3, 2, 1, 1, 1]), sorted_indices=tensor([2, 1, 0]), unsorted_indices=tensor([2, 1, 0]))\n"
     ]
    }
   ],
   "source": [
    "a = np.array([[1,2,3],\n",
    "            [1,2,3],\n",
    "            [1,2,3]  \n",
    "              ])\n",
    "\n",
    "b = np.array([[1,2,3],\n",
    "            [1,2,3],\n",
    "            [1,2,3],\n",
    "            [1,2,3]  \n",
    "              ])\n",
    "\n",
    "c = np.array([[1,2,3],\n",
    "            [1,2,3],\n",
    "            [1,2,3],\n",
    "            [1,2,3],\n",
    "            [1,2,3],\n",
    "            [1,2,3],\n",
    "            [1,2,3]  \n",
    "              ])\n",
    "\n",
    "\n",
    "d = [a,b,c]\n",
    "l = []\n",
    "for i in d:\n",
    "    ten = torch.Tensor(i)\n",
    "    l.append(ten)\n",
    "e = pad_sequence(l, batch_first=True)\n",
    "leng = [len(u) for u in l]\n",
    "\n",
    "e = pack_padded_sequence(e, batch_first=True, lengths=leng, enforce_sorted=False)\n",
    "print(e)"
   ]
  },
  {
   "cell_type": "code",
   "execution_count": 9,
   "metadata": {},
   "outputs": [
    {
     "name": "stdout",
     "output_type": "stream",
     "text": [
      "Padded sequences: \n",
      " tensor([[ 1,  2,  3,  0],\n",
      "        [ 4,  5,  0,  0],\n",
      "        [ 6,  7,  8,  9],\n",
      "        [10,  0,  0,  0]])\n",
      "tensor([3, 2, 4, 1])\n"
     ]
    }
   ],
   "source": [
    "sequences = [  \n",
    "    [1, 2, 3],\n",
    "    [4, 5],\n",
    "    [6, 7, 8, 9],\n",
    "    [10]\n",
    "]\n",
    "sequences_tensor = [torch.tensor(seq) for seq in sequences] # Convert sequences to PyTorch tensors\n",
    "\n",
    "# Padding\n",
    "padded_sequences = pad_sequence(sequences_tensor, batch_first=True)\n",
    "print(\"Padded sequences:\",\"\\n\",padded_sequences)\n",
    "\n",
    "# Packing \n",
    "sequence_lengths = torch.tensor([len(seq) for seq in sequences])\n",
    "print(sequence_lengths)"
   ]
  },
  {
   "cell_type": "code",
   "execution_count": null,
   "metadata": {},
   "outputs": [],
   "source": []
  }
 ],
 "metadata": {
  "kernelspec": {
   "display_name": "base",
   "language": "python",
   "name": "python3"
  },
  "language_info": {
   "codemirror_mode": {
    "name": "ipython",
    "version": 3
   },
   "file_extension": ".py",
   "mimetype": "text/x-python",
   "name": "python",
   "nbconvert_exporter": "python",
   "pygments_lexer": "ipython3",
   "version": "3.12.3"
  }
 },
 "nbformat": 4,
 "nbformat_minor": 2
}
