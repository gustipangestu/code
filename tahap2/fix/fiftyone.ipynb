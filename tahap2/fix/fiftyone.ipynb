{
 "cells": [
  {
   "cell_type": "code",
   "execution_count": 1,
   "metadata": {},
   "outputs": [
    {
     "name": "stdout",
     "output_type": "stream",
     "text": [
      "Downloading config file fiftyone.yml from Voxel51/WLASL\n"
     ]
    },
    {
     "data": {
      "application/vnd.jupyter.widget-view+json": {
       "model_id": "188ecdebe9944b9792da804c2c125da8",
       "version_major": 2,
       "version_minor": 0
      },
      "text/plain": [
       "fiftyone.yml:   0%|          | 0.00/118 [00:00<?, ?B/s]"
      ]
     },
     "metadata": {},
     "output_type": "display_data"
    },
    {
     "name": "stdout",
     "output_type": "stream",
     "text": [
      "Loading dataset\n"
     ]
    },
    {
     "name": "stderr",
     "output_type": "stream",
     "text": [
      "d:\\miniconda\\Lib\\site-packages\\huggingface_hub\\file_download.py:159: UserWarning: `huggingface_hub` cache-system uses symlinks by default to efficiently store duplicated files but your machine does not support them in C:\\Users\\intel\\.cache\\huggingface\\hub\\datasets--Voxel51--WLASL. Caching files will still work but in a degraded version that might require more space on your disk. This warning can be disabled by setting the `HF_HUB_DISABLE_SYMLINKS_WARNING` environment variable. For more details, see https://huggingface.co/docs/huggingface_hub/how-to-cache#limitations.\n",
      "To support symlinks on Windows, you either need to activate Developer Mode or to run Python as an administrator. In order to see activate developer mode, see this article: https://docs.microsoft.com/en-us/windows/apps/get-started/enable-your-device-for-development\n",
      "  warnings.warn(message)\n"
     ]
    },
    {
     "name": "stdout",
     "output_type": "stream",
     "text": [
      "Importing samples...\n",
      " 100% |█████████████| 11980/11980 [257.3ms elapsed, 0s remaining, 46.8K samples/s]  \n",
      "Importing frames...\n",
      " 100% |███████████| 828093/828093 [8.5s elapsed, 0s remaining, 100.6K samples/s]      \n",
      "Migrating dataset 'Voxel51/WLASL' to v1.2.0\n",
      "Downloading 11980 media files...\n"
     ]
    },
    {
     "name": "stderr",
     "output_type": "stream",
     "text": [
      "  0%|          | 0/120 [00:00<?, ?it/s]Error while downloading from https://huggingface.co/datasets/Voxel51/WLASL/resolve/3cf8daaac08088798f539d62fa511028bf5e6fd0/data/data_0/00668.mp4: HTTPSConnectionPool(host='huggingface.co', port=443): Read timed out.\n",
      "Trying to resume download...\n",
      " 98%|█████████▊| 117/120 [46:34<00:40, 13.58s/it]Error while downloading from https://cdn-lfs-us-1.hf.co/repos/62/c9/62c9da90d178655b1f035bc1ca48fafaa00369ab778de1903ff2045ed6fcf706/35ef2de2991748bb4bb94d6e4396a982ebd982252557fd53dd4285f7a90ecb9b?response-content-disposition=inline%3B+filename*%3DUTF-8%27%2769215.mp4%3B+filename%3D%2269215.mp4%22%3B&response-content-type=video%2Fmp4&Expires=1736839181&Policy=eyJTdGF0ZW1lbnQiOlt7IkNvbmRpdGlvbiI6eyJEYXRlTGVzc1RoYW4iOnsiQVdTOkVwb2NoVGltZSI6MTczNjgzOTE4MX19LCJSZXNvdXJjZSI6Imh0dHBzOi8vY2RuLWxmcy11cy0xLmhmLmNvL3JlcG9zLzYyL2M5LzYyYzlkYTkwZDE3ODY1NWIxZjAzNWJjMWNhNDhmYWZhYTAwMzY5YWI3NzhkZTE5MDNmZjIwNDVlZDZmY2Y3MDYvMzVlZjJkZTI5OTE3NDhiYjRiYjk0ZDZlNDM5NmE5ODJlYmQ5ODIyNTI1NTdmZDUzZGQ0Mjg1ZjdhOTBlY2I5Yj9yZXNwb25zZS1jb250ZW50LWRpc3Bvc2l0aW9uPSomcmVzcG9uc2UtY29udGVudC10eXBlPSoifV19&Signature=SpFWMvdh0w9plMtBxnv7ZaFZsPEExMmZrr5MtIRiau%7EyyRaQjEWl2%7EaSlvd5Rtyffr5E1EdGNuJuDvkk9nm9vD9JcITio8rZiuBlMaRKZUKdFxK3IfrdFBkfAnjmjHlGZhtLHXgZVoEueDuRb-Vzo9uF6k7nhi3friKFvjjHddPqdrMu38ikemr4ZNNF5S38OJQ66fKa-h%7E4oygAQGMtIjmkxA9N1etzHZyyzmsZst3oWI%7EfQyJBZPCNJm2132n6QU4fl%7EaQpZL9V6f8xXydQ1fCQk1iRRFCtw2pPUia9ggtIidPNwHTb1BtkaVcpQ1RHjcrW-j85Y1iWECGI1msCQ__&Key-Pair-Id=K24J24Z295AEI9: HTTPSConnectionPool(host='cdn-lfs-us-1.hf.co', port=443): Read timed out.\n",
      "Trying to resume download...\n",
      " 98%|█████████▊| 118/120 [48:13<01:18, 39.22s/it]Error while downloading from https://cdn-lfs-us-1.hf.co/repos/62/c9/62c9da90d178655b1f035bc1ca48fafaa00369ab778de1903ff2045ed6fcf706/cf3376e8e2b45b8a6b2a727830985a6129d884b2284fa92e1a900e080d1ee073?response-content-disposition=inline%3B+filename*%3DUTF-8%27%2769304.mp4%3B+filename%3D%2269304.mp4%22%3B&response-content-type=video%2Fmp4&Expires=1736839310&Policy=eyJTdGF0ZW1lbnQiOlt7IkNvbmRpdGlvbiI6eyJEYXRlTGVzc1RoYW4iOnsiQVdTOkVwb2NoVGltZSI6MTczNjgzOTMxMH19LCJSZXNvdXJjZSI6Imh0dHBzOi8vY2RuLWxmcy11cy0xLmhmLmNvL3JlcG9zLzYyL2M5LzYyYzlkYTkwZDE3ODY1NWIxZjAzNWJjMWNhNDhmYWZhYTAwMzY5YWI3NzhkZTE5MDNmZjIwNDVlZDZmY2Y3MDYvY2YzMzc2ZThlMmI0NWI4YTZiMmE3Mjc4MzA5ODVhNjEyOWQ4ODRiMjI4NGZhOTJlMWE5MDBlMDgwZDFlZTA3Mz9yZXNwb25zZS1jb250ZW50LWRpc3Bvc2l0aW9uPSomcmVzcG9uc2UtY29udGVudC10eXBlPSoifV19&Signature=ERmN6xtgqz6UxhJqqwsP3BedUQZNTNUmLxwiVqhWop7Ufn0H3DM8fE0uRAeQV3xWlQjeODA5AZluBLWhT-3%7ELeYwYhD1X0RhZgO8nEIzPnKJbznE7TkR7FEktIII4l%7EZVQNNaG0WX-PXdVbbm%7EZ-1jwCr6GKYnPkniEIHqiOk1CZZxmK0DKKlgB6XhRAiqf6k5Z5vIMeRh%7Eno8ACs7FftfLElTG5G%7EEHDULfyiNsxCD4A27KHBVBlQToXeq76rqmW4%7EnPxGCqbGhGdfC4iHYTsd7%7EoolG0jR160vgw2EZ0Dltv9R87Bds95t2-CZKesNW1pq7Dr69ue1dfokyGxjZg__&Key-Pair-Id=K24J24Z295AEI9: HTTPSConnectionPool(host='cdn-lfs-us-1.hf.co', port=443): Read timed out.\n",
      "Trying to resume download...\n",
      " 99%|█████████▉| 119/120 [51:28<01:25, 85.93s/it]Error while downloading from https://cdn-lfs-us-1.hf.co/repos/62/c9/62c9da90d178655b1f035bc1ca48fafaa00369ab778de1903ff2045ed6fcf706/caec29b0309449b79d64a5f730a7efbf87d89156586528a5759120a0d6c28fd0?response-content-disposition=inline%3B+filename*%3DUTF-8%27%2769486.mp4%3B+filename%3D%2269486.mp4%22%3B&response-content-type=video%2Fmp4&Expires=1736839534&Policy=eyJTdGF0ZW1lbnQiOlt7IkNvbmRpdGlvbiI6eyJEYXRlTGVzc1RoYW4iOnsiQVdTOkVwb2NoVGltZSI6MTczNjgzOTUzNH19LCJSZXNvdXJjZSI6Imh0dHBzOi8vY2RuLWxmcy11cy0xLmhmLmNvL3JlcG9zLzYyL2M5LzYyYzlkYTkwZDE3ODY1NWIxZjAzNWJjMWNhNDhmYWZhYTAwMzY5YWI3NzhkZTE5MDNmZjIwNDVlZDZmY2Y3MDYvY2FlYzI5YjAzMDk0NDliNzlkNjRhNWY3MzBhN2VmYmY4N2Q4OTE1NjU4NjUyOGE1NzU5MTIwYTBkNmMyOGZkMD9yZXNwb25zZS1jb250ZW50LWRpc3Bvc2l0aW9uPSomcmVzcG9uc2UtY29udGVudC10eXBlPSoifV19&Signature=fy8rdFallRHoOQhfv0bFae-L6uHt%7EXL4VXwgKpxAPnKcVe-B5L13OHuQeo7jX%7EGtmMXeC8RmRaSNzDLzynIJ408vL-ITtNmRaLuNsUY-qLrAA5Rh1%7ERklFFHLBS2-QcoJnU3K9dr4NFAIx5rmctxvMdkY5Du00BWQ2xrqSqcHkd1W57EIIdw6TQa0nlCK9pq5epW2eTOxOVGao1wWfinPzJhW-kLk2Sp7d4zRMEPQHMw69b9DYLmmEIF01xA9xtXiC9uFozv-6n3Byjc1ROhl%7EjFSEMQ8hJDEGfGSmUk73L8MP%7EnKaZ54kxh%7E92Xqvw55SKZ3s%7E3cDQgrdg92rqOWA__&Key-Pair-Id=K24J24Z295AEI9: HTTPSConnectionPool(host='cdn-lfs-us-1.hf.co', port=443): Read timed out.\n",
      "Trying to resume download...\n",
      "100%|██████████| 120/120 [54:13<00:00, 27.11s/it] \n"
     ]
    },
    {
     "data": {
      "text/html": [
       "\n",
       "        <iframe\n",
       "            width=\"100%\"\n",
       "            height=\"800\"\n",
       "            src=\"http://localhost:5151/?notebook=True&subscription=71f900b8-23f9-49c7-9b50-c374ccb1ef23\"\n",
       "            frameborder=\"0\"\n",
       "            allowfullscreen\n",
       "            \n",
       "        ></iframe>\n",
       "        "
      ],
      "text/plain": [
       "<IPython.lib.display.IFrame at 0x20b1ada12e0>"
      ]
     },
     "metadata": {},
     "output_type": "display_data"
    },
    {
     "name": "stdout",
     "output_type": "stream",
     "text": [
      "\n",
      "Welcome to\n",
      "\n",
      "███████╗██╗███████╗████████╗██╗   ██╗ ██████╗ ███╗   ██╗███████╗\n",
      "██╔════╝██║██╔════╝╚══██╔══╝╚██╗ ██╔╝██╔═══██╗████╗  ██║██╔════╝\n",
      "█████╗  ██║█████╗     ██║    ╚████╔╝ ██║   ██║██╔██╗ ██║█████╗\n",
      "██╔══╝  ██║██╔══╝     ██║     ╚██╔╝  ██║   ██║██║╚██╗██║██╔══╝\n",
      "██║     ██║██║        ██║      ██║   ╚██████╔╝██║ ╚████║███████╗\n",
      "╚═╝     ╚═╝╚═╝        ╚═╝      ╚═╝    ╚═════╝ ╚═╝  ╚═══╝╚══════╝ v1.2.0\n",
      "\n",
      "If you're finding FiftyOne helpful, here's how you can get involved:\n",
      "\n",
      "|\n",
      "|  ⭐⭐⭐ Give the project a star on GitHub ⭐⭐⭐\n",
      "|  https://github.com/voxel51/fiftyone\n",
      "|\n",
      "|  🚀🚀🚀 Join the FiftyOne Discord community 🚀🚀🚀\n",
      "|  https://community.voxel51.com/\n",
      "|\n",
      "\n"
     ]
    },
    {
     "name": "stdout",
     "output_type": "stream",
     "text": [
      "\n",
      "Could not connect session, trying again in 10 seconds\n",
      "\n"
     ]
    }
   ],
   "source": [
    "import fiftyone as fo\n",
    "import fiftyone.utils.huggingface as fouh\n",
    "\n",
    "# Load the dataset\n",
    "# Note: other available arguments include 'max_samples', etc\n",
    "dataset = fouh.load_from_hub(\"Voxel51/WLASL\")\n",
    "\n",
    "# Launch the App\n",
    "session = fo.launch_app(dataset)\n"
   ]
  },
  {
   "cell_type": "code",
   "execution_count": 6,
   "metadata": {},
   "outputs": [
    {
     "name": "stdout",
     "output_type": "stream",
     "text": [
      "<class 'fiftyone.core.dataset.Dataset'>\n",
      "video\n"
     ]
    }
   ],
   "source": [
    "print(type(dataset))\n",
    "print(dataset.media_type)"
   ]
  },
  {
   "cell_type": "code",
   "execution_count": 12,
   "metadata": {},
   "outputs": [
    {
     "name": "stdout",
     "output_type": "stream",
     "text": [
      "   0% ||------------|     0/11980 [3.8ms elapsed, ? remaining, ? samples/s] "
     ]
    },
    {
     "name": "stdout",
     "output_type": "stream",
     "text": [
      "  15% |█------------|  1800/11980 [2.9s elapsed, 16.9s remaining, 515.6 samples/s]    \n"
     ]
    },
    {
     "ename": "FileNotFoundError",
     "evalue": "[Errno 2] No such file or directory: 'C:\\\\Users\\\\intel\\\\fiftyone\\\\huggingface\\\\hub\\\\Voxel51\\\\WLASL\\\\data\\\\data_18\\\\10450.mp4'",
     "output_type": "error",
     "traceback": [
      "\u001b[1;31m---------------------------------------------------------------------------\u001b[0m",
      "\u001b[1;31mFileNotFoundError\u001b[0m                         Traceback (most recent call last)",
      "Cell \u001b[1;32mIn[12], line 3\u001b[0m\n\u001b[0;32m      1\u001b[0m \u001b[38;5;28;01mimport\u001b[39;00m \u001b[38;5;21;01mfiftyone\u001b[39;00m \u001b[38;5;28;01mas\u001b[39;00m \u001b[38;5;21;01mfo\u001b[39;00m\n\u001b[1;32m----> 3\u001b[0m dataset\u001b[38;5;241m.\u001b[39mexport(\n\u001b[0;32m      4\u001b[0m     export_dir \u001b[38;5;241m=\u001b[39m \u001b[38;5;124m'\u001b[39m\u001b[38;5;124mdataset\u001b[39m\u001b[38;5;124m'\u001b[39m,\n\u001b[0;32m      5\u001b[0m     dataset_type \u001b[38;5;241m=\u001b[39m fo\u001b[38;5;241m.\u001b[39mtypes\u001b[38;5;241m.\u001b[39mVideoClassificationDirectoryTree,\n\u001b[0;32m      6\u001b[0m     \n\u001b[0;32m      7\u001b[0m )\n",
      "File \u001b[1;32m~\\AppData\\Roaming\\Python\\Python312\\site-packages\\fiftyone\\core\\collections.py:9130\u001b[0m, in \u001b[0;36mSampleCollection.export\u001b[1;34m(self, export_dir, dataset_type, data_path, labels_path, export_media, rel_dir, dataset_exporter, label_field, frame_labels_field, overwrite, progress, **kwargs)\u001b[0m\n\u001b[0;32m   9127\u001b[0m     export_dir, _ \u001b[38;5;241m=\u001b[39m etau\u001b[38;5;241m.\u001b[39msplit_archive(archive_path)\n\u001b[0;32m   9129\u001b[0m \u001b[38;5;66;03m# Perform the export\u001b[39;00m\n\u001b[1;32m-> 9130\u001b[0m _export(\n\u001b[0;32m   9131\u001b[0m     \u001b[38;5;28mself\u001b[39m,\n\u001b[0;32m   9132\u001b[0m     export_dir\u001b[38;5;241m=\u001b[39mexport_dir,\n\u001b[0;32m   9133\u001b[0m     dataset_type\u001b[38;5;241m=\u001b[39mdataset_type,\n\u001b[0;32m   9134\u001b[0m     data_path\u001b[38;5;241m=\u001b[39mdata_path,\n\u001b[0;32m   9135\u001b[0m     labels_path\u001b[38;5;241m=\u001b[39mlabels_path,\n\u001b[0;32m   9136\u001b[0m     export_media\u001b[38;5;241m=\u001b[39mexport_media,\n\u001b[0;32m   9137\u001b[0m     rel_dir\u001b[38;5;241m=\u001b[39mrel_dir,\n\u001b[0;32m   9138\u001b[0m     dataset_exporter\u001b[38;5;241m=\u001b[39mdataset_exporter,\n\u001b[0;32m   9139\u001b[0m     label_field\u001b[38;5;241m=\u001b[39mlabel_field,\n\u001b[0;32m   9140\u001b[0m     frame_labels_field\u001b[38;5;241m=\u001b[39mframe_labels_field,\n\u001b[0;32m   9141\u001b[0m     overwrite\u001b[38;5;241m=\u001b[39moverwrite,\n\u001b[0;32m   9142\u001b[0m     progress\u001b[38;5;241m=\u001b[39mprogress,\n\u001b[0;32m   9143\u001b[0m     \u001b[38;5;241m*\u001b[39m\u001b[38;5;241m*\u001b[39mkwargs,\n\u001b[0;32m   9144\u001b[0m )\n\u001b[0;32m   9146\u001b[0m \u001b[38;5;66;03m# Make archive, if requested\u001b[39;00m\n\u001b[0;32m   9147\u001b[0m \u001b[38;5;28;01mif\u001b[39;00m archive_path \u001b[38;5;129;01mis\u001b[39;00m \u001b[38;5;129;01mnot\u001b[39;00m \u001b[38;5;28;01mNone\u001b[39;00m:\n",
      "File \u001b[1;32m~\\AppData\\Roaming\\Python\\Python312\\site-packages\\fiftyone\\core\\collections.py:11839\u001b[0m, in \u001b[0;36m_export\u001b[1;34m(sample_collection, export_dir, dataset_type, data_path, labels_path, export_media, rel_dir, dataset_exporter, label_field, frame_labels_field, overwrite, progress, **kwargs)\u001b[0m\n\u001b[0;32m  11833\u001b[0m         \u001b[38;5;28;01mraise\u001b[39;00m \u001b[38;5;167;01mValueError\u001b[39;00m(\n\u001b[0;32m  11834\u001b[0m             \u001b[38;5;124m\"\u001b[39m\u001b[38;5;124mUnable to locate compatible sample or frame-level \u001b[39m\u001b[38;5;124m\"\u001b[39m\n\u001b[0;32m  11835\u001b[0m             \u001b[38;5;124m\"\u001b[39m\u001b[38;5;124mfield(s) to export\u001b[39m\u001b[38;5;124m\"\u001b[39m\n\u001b[0;32m  11836\u001b[0m         )\n\u001b[0;32m  11838\u001b[0m \u001b[38;5;66;03m# Perform the export\u001b[39;00m\n\u001b[1;32m> 11839\u001b[0m foud\u001b[38;5;241m.\u001b[39mexport_samples(\n\u001b[0;32m  11840\u001b[0m     sample_collection,\n\u001b[0;32m  11841\u001b[0m     dataset_exporter\u001b[38;5;241m=\u001b[39mdataset_exporter,\n\u001b[0;32m  11842\u001b[0m     label_field\u001b[38;5;241m=\u001b[39mlabel_field,\n\u001b[0;32m  11843\u001b[0m     frame_labels_field\u001b[38;5;241m=\u001b[39mframe_labels_field,\n\u001b[0;32m  11844\u001b[0m     progress\u001b[38;5;241m=\u001b[39mprogress,\n\u001b[0;32m  11845\u001b[0m     \u001b[38;5;241m*\u001b[39m\u001b[38;5;241m*\u001b[39mkwargs,\n\u001b[0;32m  11846\u001b[0m )\n",
      "File \u001b[1;32m~\\AppData\\Roaming\\Python\\Python312\\site-packages\\fiftyone\\utils\\data\\exporters.py:366\u001b[0m, in \u001b[0;36mexport_samples\u001b[1;34m(samples, export_dir, dataset_type, data_path, labels_path, export_media, rel_dir, dataset_exporter, label_field, frame_labels_field, progress, num_samples, **kwargs)\u001b[0m\n\u001b[0;32m    361\u001b[0m \u001b[38;5;28;01melse\u001b[39;00m:\n\u001b[0;32m    362\u001b[0m     \u001b[38;5;28;01mraise\u001b[39;00m \u001b[38;5;167;01mValueError\u001b[39;00m(\n\u001b[0;32m    363\u001b[0m         \u001b[38;5;124m\"\u001b[39m\u001b[38;5;124mUnsupported DatasetExporter \u001b[39m\u001b[38;5;132;01m%s\u001b[39;00m\u001b[38;5;124m\"\u001b[39m \u001b[38;5;241m%\u001b[39m \u001b[38;5;28mtype\u001b[39m(dataset_exporter)\n\u001b[0;32m    364\u001b[0m     )\n\u001b[1;32m--> 366\u001b[0m write_dataset(\n\u001b[0;32m    367\u001b[0m     samples,\n\u001b[0;32m    368\u001b[0m     sample_parser,\n\u001b[0;32m    369\u001b[0m     dataset_exporter,\n\u001b[0;32m    370\u001b[0m     sample_collection\u001b[38;5;241m=\u001b[39msample_collection,\n\u001b[0;32m    371\u001b[0m     progress\u001b[38;5;241m=\u001b[39mprogress,\n\u001b[0;32m    372\u001b[0m     num_samples\u001b[38;5;241m=\u001b[39mnum_samples,\n\u001b[0;32m    373\u001b[0m )\n",
      "File \u001b[1;32m~\\AppData\\Roaming\\Python\\Python312\\site-packages\\fiftyone\\utils\\data\\exporters.py:445\u001b[0m, in \u001b[0;36mwrite_dataset\u001b[1;34m(samples, sample_parser, dataset_exporter, sample_collection, progress, num_samples)\u001b[0m\n\u001b[0;32m    433\u001b[0m     _write_image_dataset(\n\u001b[0;32m    434\u001b[0m         dataset_exporter,\n\u001b[0;32m    435\u001b[0m         samples,\n\u001b[1;32m   (...)\u001b[0m\n\u001b[0;32m    439\u001b[0m         num_samples\u001b[38;5;241m=\u001b[39mnum_samples,\n\u001b[0;32m    440\u001b[0m     )\n\u001b[0;32m    441\u001b[0m \u001b[38;5;28;01melif\u001b[39;00m \u001b[38;5;28misinstance\u001b[39m(\n\u001b[0;32m    442\u001b[0m     dataset_exporter,\n\u001b[0;32m    443\u001b[0m     (UnlabeledVideoDatasetExporter, LabeledVideoDatasetExporter),\n\u001b[0;32m    444\u001b[0m ):\n\u001b[1;32m--> 445\u001b[0m     _write_video_dataset(\n\u001b[0;32m    446\u001b[0m         dataset_exporter,\n\u001b[0;32m    447\u001b[0m         samples,\n\u001b[0;32m    448\u001b[0m         sample_parser,\n\u001b[0;32m    449\u001b[0m         sample_collection\u001b[38;5;241m=\u001b[39msample_collection,\n\u001b[0;32m    450\u001b[0m         progress\u001b[38;5;241m=\u001b[39mprogress,\n\u001b[0;32m    451\u001b[0m         num_samples\u001b[38;5;241m=\u001b[39mnum_samples,\n\u001b[0;32m    452\u001b[0m     )\n\u001b[0;32m    453\u001b[0m \u001b[38;5;28;01melif\u001b[39;00m \u001b[38;5;28misinstance\u001b[39m(dataset_exporter, UnlabeledMediaDatasetExporter):\n\u001b[0;32m    454\u001b[0m     _write_unlabeled_dataset(\n\u001b[0;32m    455\u001b[0m         dataset_exporter,\n\u001b[0;32m    456\u001b[0m         samples,\n\u001b[1;32m   (...)\u001b[0m\n\u001b[0;32m    460\u001b[0m         num_samples\u001b[38;5;241m=\u001b[39mnum_samples,\n\u001b[0;32m    461\u001b[0m     )\n",
      "File \u001b[1;32m~\\AppData\\Roaming\\Python\\Python312\\site-packages\\fiftyone\\utils\\data\\exporters.py:979\u001b[0m, in \u001b[0;36m_write_video_dataset\u001b[1;34m(dataset_exporter, samples, sample_parser, sample_collection, progress, num_samples)\u001b[0m\n\u001b[0;32m    976\u001b[0m     frames \u001b[38;5;241m=\u001b[39m sample_parser\u001b[38;5;241m.\u001b[39mget_frame_labels()\n\u001b[0;32m    978\u001b[0m     \u001b[38;5;66;03m# Export sample\u001b[39;00m\n\u001b[1;32m--> 979\u001b[0m     dataset_exporter\u001b[38;5;241m.\u001b[39mexport_sample(\n\u001b[0;32m    980\u001b[0m         video_path, label, frames, metadata\u001b[38;5;241m=\u001b[39mmetadata\n\u001b[0;32m    981\u001b[0m     )\n\u001b[0;32m    982\u001b[0m \u001b[38;5;28;01melse\u001b[39;00m:\n\u001b[0;32m    983\u001b[0m     \u001b[38;5;66;03m# Export sample\u001b[39;00m\n\u001b[0;32m    984\u001b[0m     dataset_exporter\u001b[38;5;241m.\u001b[39mexport_sample(\n\u001b[0;32m    985\u001b[0m         video_path, metadata\u001b[38;5;241m=\u001b[39mmetadata\n\u001b[0;32m    986\u001b[0m     )\n",
      "File \u001b[1;32m~\\AppData\\Roaming\\Python\\Python312\\site-packages\\fiftyone\\utils\\data\\exporters.py:3012\u001b[0m, in \u001b[0;36mVideoClassificationDirectoryTreeExporter.export_sample\u001b[1;34m(self, video_path, classification, _, metadata)\u001b[0m\n\u001b[0;32m   3008\u001b[0m     filename \u001b[38;5;241m=\u001b[39m name \u001b[38;5;241m+\u001b[39m (\u001b[38;5;124m\"\u001b[39m\u001b[38;5;124m-\u001b[39m\u001b[38;5;132;01m%d\u001b[39;00m\u001b[38;5;124m\"\u001b[39m \u001b[38;5;241m%\u001b[39m count) \u001b[38;5;241m+\u001b[39m ext\n\u001b[0;32m   3010\u001b[0m outpath \u001b[38;5;241m=\u001b[39m os\u001b[38;5;241m.\u001b[39mpath\u001b[38;5;241m.\u001b[39mjoin(\u001b[38;5;28mself\u001b[39m\u001b[38;5;241m.\u001b[39mexport_dir, _label, filename)\n\u001b[1;32m-> 3012\u001b[0m \u001b[38;5;28mself\u001b[39m\u001b[38;5;241m.\u001b[39m_media_exporter\u001b[38;5;241m.\u001b[39mexport(video_path, outpath\u001b[38;5;241m=\u001b[39moutpath)\n",
      "File \u001b[1;32m~\\AppData\\Roaming\\Python\\Python312\\site-packages\\fiftyone\\utils\\data\\exporters.py:1314\u001b[0m, in \u001b[0;36mMediaExporter.export\u001b[1;34m(self, media_or_path, outpath)\u001b[0m\n\u001b[0;32m   1312\u001b[0m     \u001b[38;5;28mself\u001b[39m\u001b[38;5;241m.\u001b[39m_handle_fo3d_file(media_path, outpath)\n\u001b[0;32m   1313\u001b[0m \u001b[38;5;28;01melif\u001b[39;00m \u001b[38;5;28mself\u001b[39m\u001b[38;5;241m.\u001b[39mexport_mode \u001b[38;5;129;01mis\u001b[39;00m \u001b[38;5;28;01mTrue\u001b[39;00m:\n\u001b[1;32m-> 1314\u001b[0m     etau\u001b[38;5;241m.\u001b[39mcopy_file(media_path, outpath)\n\u001b[0;32m   1315\u001b[0m \u001b[38;5;28;01melif\u001b[39;00m \u001b[38;5;28mself\u001b[39m\u001b[38;5;241m.\u001b[39mexport_mode \u001b[38;5;241m==\u001b[39m \u001b[38;5;124m\"\u001b[39m\u001b[38;5;124mmove\u001b[39m\u001b[38;5;124m\"\u001b[39m:\n\u001b[0;32m   1316\u001b[0m     etau\u001b[38;5;241m.\u001b[39mmove_file(media_path, outpath)\n",
      "File \u001b[1;32m~\\AppData\\Roaming\\Python\\Python312\\site-packages\\eta\\core\\utils.py:2441\u001b[0m, in \u001b[0;36mcopy_file\u001b[1;34m(inpath, outpath, check_ext)\u001b[0m\n\u001b[0;32m   2438\u001b[0m ensure_basedir(outpath)\n\u001b[0;32m   2440\u001b[0m \u001b[38;5;28;01mtry\u001b[39;00m:\n\u001b[1;32m-> 2441\u001b[0m     shutil\u001b[38;5;241m.\u001b[39mcopy(inpath, outpath)\n\u001b[0;32m   2442\u001b[0m \u001b[38;5;28;01mexcept\u001b[39;00m shutil\u001b[38;5;241m.\u001b[39mSameFileError:\n\u001b[0;32m   2443\u001b[0m     \u001b[38;5;28;01mpass\u001b[39;00m\n",
      "File \u001b[1;32md:\\miniconda\\Lib\\shutil.py:435\u001b[0m, in \u001b[0;36mcopy\u001b[1;34m(src, dst, follow_symlinks)\u001b[0m\n\u001b[0;32m    433\u001b[0m \u001b[38;5;28;01mif\u001b[39;00m os\u001b[38;5;241m.\u001b[39mpath\u001b[38;5;241m.\u001b[39misdir(dst):\n\u001b[0;32m    434\u001b[0m     dst \u001b[38;5;241m=\u001b[39m os\u001b[38;5;241m.\u001b[39mpath\u001b[38;5;241m.\u001b[39mjoin(dst, os\u001b[38;5;241m.\u001b[39mpath\u001b[38;5;241m.\u001b[39mbasename(src))\n\u001b[1;32m--> 435\u001b[0m copyfile(src, dst, follow_symlinks\u001b[38;5;241m=\u001b[39mfollow_symlinks)\n\u001b[0;32m    436\u001b[0m copymode(src, dst, follow_symlinks\u001b[38;5;241m=\u001b[39mfollow_symlinks)\n\u001b[0;32m    437\u001b[0m \u001b[38;5;28;01mreturn\u001b[39;00m dst\n",
      "File \u001b[1;32md:\\miniconda\\Lib\\shutil.py:260\u001b[0m, in \u001b[0;36mcopyfile\u001b[1;34m(src, dst, follow_symlinks)\u001b[0m\n\u001b[0;32m    258\u001b[0m     os\u001b[38;5;241m.\u001b[39msymlink(os\u001b[38;5;241m.\u001b[39mreadlink(src), dst)\n\u001b[0;32m    259\u001b[0m \u001b[38;5;28;01melse\u001b[39;00m:\n\u001b[1;32m--> 260\u001b[0m     \u001b[38;5;28;01mwith\u001b[39;00m \u001b[38;5;28mopen\u001b[39m(src, \u001b[38;5;124m'\u001b[39m\u001b[38;5;124mrb\u001b[39m\u001b[38;5;124m'\u001b[39m) \u001b[38;5;28;01mas\u001b[39;00m fsrc:\n\u001b[0;32m    261\u001b[0m         \u001b[38;5;28;01mtry\u001b[39;00m:\n\u001b[0;32m    262\u001b[0m             \u001b[38;5;28;01mwith\u001b[39;00m \u001b[38;5;28mopen\u001b[39m(dst, \u001b[38;5;124m'\u001b[39m\u001b[38;5;124mwb\u001b[39m\u001b[38;5;124m'\u001b[39m) \u001b[38;5;28;01mas\u001b[39;00m fdst:\n\u001b[0;32m    263\u001b[0m                 \u001b[38;5;66;03m# macOS\u001b[39;00m\n",
      "\u001b[1;31mFileNotFoundError\u001b[0m: [Errno 2] No such file or directory: 'C:\\\\Users\\\\intel\\\\fiftyone\\\\huggingface\\\\hub\\\\Voxel51\\\\WLASL\\\\data\\\\data_18\\\\10450.mp4'"
     ]
    }
   ],
   "source": [
    "import fiftyone as fo\n",
    "\n",
    "dataset.export(\n",
    "    export_dir = 'dataset',\n",
    "    dataset_type = fo.types.VideoClassificationDirectoryTree,\n",
    "    \n",
    ")"
   ]
  },
  {
   "cell_type": "code",
   "execution_count": null,
   "metadata": {},
   "outputs": [],
   "source": []
  }
 ],
 "metadata": {
  "kernelspec": {
   "display_name": "base",
   "language": "python",
   "name": "python3"
  },
  "language_info": {
   "codemirror_mode": {
    "name": "ipython",
    "version": 3
   },
   "file_extension": ".py",
   "mimetype": "text/x-python",
   "name": "python",
   "nbconvert_exporter": "python",
   "pygments_lexer": "ipython3",
   "version": "3.12.3"
  }
 },
 "nbformat": 4,
 "nbformat_minor": 2
}
