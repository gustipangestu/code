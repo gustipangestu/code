{
 "cells": [
  {
   "cell_type": "code",
   "execution_count": 5,
   "metadata": {},
   "outputs": [],
   "source": [
    "import torch\n",
    "import mediapipe\n",
    "import numpy as np\n",
    "import pandas as pd\n",
    "from ultralytics import YOLO\n",
    "from transformers import pipeline\n",
    "from torch.utils.data import Dataset, DataLoader\n",
    "from torchvision import datasets\n"
   ]
  },
  {
   "cell_type": "code",
   "execution_count": 6,
   "metadata": {},
   "outputs": [],
   "source": [
    "# dataset handler\n",
    "\n",
    "class dawtaset(Dataset):\n",
    "    def __init__(self, image_path, transform=None, featureExtraction=None):\n",
    "        super(dawtaset, self).__init__()\n",
    "        self.image_folder = datasets.ImageFolder(image_path)\n",
    "        self.transform = transform\n",
    "        self.featureExtraction = featureExtraction\n",
    "    def __len__(self):\n",
    "        return len(self.image_folder)\n",
    "    \n",
    "    def __getitem__(self, idx):\n",
    "        image, label = self.image_folder[idx]\n",
    "        path = self.image_folder.imgs[idx][0]\n",
    "        data = self.image_folder\n",
    "        # Apply transformations (if needed)\n",
    "        if self.transform:\n",
    "            image = self.transform(image)\n",
    "        \n",
    "        if self.featureExtraction:\n",
    "            feature, err = self.featureExtraction(image)\n",
    "            if (err != None):\n",
    "                return self.__getitem__(idx + 1)\n",
    "            else:\n",
    "                custom_features = feature\n",
    "        \n",
    "        \n",
    "        hasil = {\n",
    "            'image': image,\n",
    "            'labels': label,\n",
    "            'id_class': idx,\n",
    "            'custom_features': custom_features,\n",
    "            'data': data\n",
    "        }\n",
    "        \n",
    "        return hasil"
   ]
  },
  {
   "cell_type": "code",
   "execution_count": null,
   "metadata": {},
   "outputs": [],
   "source": []
  }
 ],
 "metadata": {
  "kernelspec": {
   "display_name": "base",
   "language": "python",
   "name": "python3"
  },
  "language_info": {
   "codemirror_mode": {
    "name": "ipython",
    "version": 3
   },
   "file_extension": ".py",
   "mimetype": "text/x-python",
   "name": "python",
   "nbconvert_exporter": "python",
   "pygments_lexer": "ipython3",
   "version": "3.12.3"
  }
 },
 "nbformat": 4,
 "nbformat_minor": 2
}
